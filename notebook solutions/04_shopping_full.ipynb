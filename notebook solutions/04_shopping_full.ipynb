{
 "cells": [
  {
   "cell_type": "code",
   "execution_count": null,
   "id": "e13502e0",
   "metadata": {},
   "outputs": [],
   "source": [
    "# !pip install playwright\n",
    "# !python -m playwright install"
   ]
  },
  {
   "cell_type": "code",
   "execution_count": null,
   "id": "0278d470",
   "metadata": {},
   "outputs": [],
   "source": [
    "from playwright.sync_api import sync_playwright, expect"
   ]
  },
  {
   "cell_type": "code",
   "execution_count": null,
   "id": "0a0b6ce6",
   "metadata": {},
   "outputs": [],
   "source": [
    "with sync_playwright() as p:\n",
    "    browser = p.chromium.launch(headless=False, slow_mo=500)\n",
    "    page = browser.new_page()\n",
    "    page.goto(\"https://www.saucedemo.com/\")\n",
    "    # Log in\n",
    "    page.locator('[data-test=\"username\"]').fill(\"standard_user\")\n",
    "    page.locator('[data-test=\"password\"]').fill(\"secret_sauce\")\n",
    "    page.locator('[data-test=\"login-button\"]').click()\n",
    "    # Add backpack to cart\n",
    "    page.locator('[data-test=\"add-to-cart-sauce-labs-backpack\"]').click()\n",
    "    # Go to cart\n",
    "    page.locator('.shopping_cart_link').click()\n",
    "    # Checkout\n",
    "    page.locator('[data-test=\"checkout\"]').click()\n",
    "    # Fill in checkout info\n",
    "    page.locator('[data-test=\"firstName\"]').fill(\"John\")\n",
    "    page.locator('[data-test=\"lastName\"]').fill(\"Doe\")\n",
    "    page.locator('[data-test=\"postalCode\"]').fill(\"12345\")\n",
    "    page.locator('[data-test=\"continue\"]').click()\n",
    "    # Finish purchase\n",
    "    page.locator('[data-test=\"finish\"]').click()\n",
    "    # Take a screenshot of the confirmation page\n",
    "    page.screenshot(path=\"order_confirmation.png\")\n",
    "    # Assert order confirmation text is visible\n",
    "    expect(page.get_by_text(\"Thank you for your order!\")).to_be_visible()\n",
    "    browser.close()"
   ]
  }
 ],
 "metadata": {
  "kernelspec": {
   "display_name": "Python_Playwright_workshop-Mv8TC4Ic",
   "language": "python",
   "name": "python3"
  },
  "language_info": {
   "name": "python",
   "version": "3.11.4"
  }
 },
 "nbformat": 4,
 "nbformat_minor": 5
}
