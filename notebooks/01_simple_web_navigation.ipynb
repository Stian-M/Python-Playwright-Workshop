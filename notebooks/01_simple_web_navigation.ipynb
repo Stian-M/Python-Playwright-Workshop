{
 "cells": [
  {
   "cell_type": "code",
   "execution_count": null,
   "id": "e13502e0",
   "metadata": {},
   "outputs": [],
   "source": [
    "# !pip install playwright\n",
    "# !python -m playwright install"
   ]
  },
  {
   "cell_type": "code",
   "execution_count": null,
   "id": "0278d470",
   "metadata": {},
   "outputs": [],
   "source": [
    "from playwright.sync_api import sync_playwright, expect"
   ]
  },
  {
   "cell_type": "code",
   "execution_count": null,
   "id": "0a0b6ce6",
   "metadata": {},
   "outputs": [],
   "source": [
    "\n",
    "with sync_playwright() as p:\n",
    "    browser = p.chromium.launch(headless=False, slow_mo=500)\n",
    "    page = browser.new_page()\n",
    "    page.goto(\"https://www.saucedemo.com/\")\n",
    "    expect(page.get_by_text(\"Swag Labs\")).to_be_visible()\n",
    "    browser.close()"
   ]
  }
 ],
 "metadata": {
  "kernelspec": {
   "display_name": "Python_Playwright_workshop-Mv8TC4Ic",
   "language": "python",
   "name": "python3"
  },
  "language_info": {
   "name": "python",
   "version": "3.11.4"
  }
 },
 "nbformat": 4,
 "nbformat_minor": 5
}
